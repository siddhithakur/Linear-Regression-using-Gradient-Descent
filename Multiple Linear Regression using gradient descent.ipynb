{
 "cells": [
  {
   "cell_type": "code",
   "execution_count": 1,
   "metadata": {},
   "outputs": [],
   "source": [
    "#Importing libraries\n",
    "from mpl_toolkits.mplot3d import Axes3D\n",
    "import numpy as np\n",
    "import matplotlib.pyplot as plt\n",
    "import pandas as pd\n",
    "from sklearn.preprocessing import normalize"
   ]
  },
  {
   "cell_type": "code",
   "execution_count": 2,
   "metadata": {},
   "outputs": [],
   "source": [
    "from sklearn.datasets import load_boston   #importing the data from dataset\n"
   ]
  },
  {
   "cell_type": "code",
   "execution_count": 3,
   "metadata": {},
   "outputs": [],
   "source": [
    "boston_data = load_boston()"
   ]
  },
  {
   "cell_type": "code",
   "execution_count": 4,
   "metadata": {},
   "outputs": [
    {
     "data": {
      "text/plain": [
       "(506, 13)"
      ]
     },
     "execution_count": 4,
     "metadata": {},
     "output_type": "execute_result"
    }
   ],
   "source": [
    "boston_data['data'].shape"
   ]
  },
  {
   "cell_type": "code",
   "execution_count": 5,
   "metadata": {},
   "outputs": [
    {
     "data": {
      "text/plain": [
       "sklearn.utils.Bunch"
      ]
     },
     "execution_count": 5,
     "metadata": {},
     "output_type": "execute_result"
    }
   ],
   "source": [
    "type(boston_data)"
   ]
  },
  {
   "cell_type": "code",
   "execution_count": 6,
   "metadata": {},
   "outputs": [],
   "source": [
    "df = pd.DataFrame(boston_data.data, columns=boston_data.feature_names)"
   ]
  },
  {
   "cell_type": "code",
   "execution_count": 7,
   "metadata": {},
   "outputs": [],
   "source": [
    "df['Price']=pd.DataFrame(boston_data.target)"
   ]
  },
  {
   "cell_type": "code",
   "execution_count": 8,
   "metadata": {},
   "outputs": [
    {
     "data": {
      "text/html": [
       "<div>\n",
       "<style scoped>\n",
       "    .dataframe tbody tr th:only-of-type {\n",
       "        vertical-align: middle;\n",
       "    }\n",
       "\n",
       "    .dataframe tbody tr th {\n",
       "        vertical-align: top;\n",
       "    }\n",
       "\n",
       "    .dataframe thead th {\n",
       "        text-align: right;\n",
       "    }\n",
       "</style>\n",
       "<table border=\"1\" class=\"dataframe\">\n",
       "  <thead>\n",
       "    <tr style=\"text-align: right;\">\n",
       "      <th></th>\n",
       "      <th>CRIM</th>\n",
       "      <th>ZN</th>\n",
       "      <th>INDUS</th>\n",
       "      <th>CHAS</th>\n",
       "      <th>NOX</th>\n",
       "      <th>RM</th>\n",
       "      <th>AGE</th>\n",
       "      <th>DIS</th>\n",
       "      <th>RAD</th>\n",
       "      <th>TAX</th>\n",
       "      <th>PTRATIO</th>\n",
       "      <th>B</th>\n",
       "      <th>LSTAT</th>\n",
       "      <th>Price</th>\n",
       "    </tr>\n",
       "  </thead>\n",
       "  <tbody>\n",
       "    <tr>\n",
       "      <th>0</th>\n",
       "      <td>0.00632</td>\n",
       "      <td>18.0</td>\n",
       "      <td>2.31</td>\n",
       "      <td>0.0</td>\n",
       "      <td>0.538</td>\n",
       "      <td>6.575</td>\n",
       "      <td>65.2</td>\n",
       "      <td>4.0900</td>\n",
       "      <td>1.0</td>\n",
       "      <td>296.0</td>\n",
       "      <td>15.3</td>\n",
       "      <td>396.90</td>\n",
       "      <td>4.98</td>\n",
       "      <td>24.0</td>\n",
       "    </tr>\n",
       "    <tr>\n",
       "      <th>1</th>\n",
       "      <td>0.02731</td>\n",
       "      <td>0.0</td>\n",
       "      <td>7.07</td>\n",
       "      <td>0.0</td>\n",
       "      <td>0.469</td>\n",
       "      <td>6.421</td>\n",
       "      <td>78.9</td>\n",
       "      <td>4.9671</td>\n",
       "      <td>2.0</td>\n",
       "      <td>242.0</td>\n",
       "      <td>17.8</td>\n",
       "      <td>396.90</td>\n",
       "      <td>9.14</td>\n",
       "      <td>21.6</td>\n",
       "    </tr>\n",
       "    <tr>\n",
       "      <th>2</th>\n",
       "      <td>0.02729</td>\n",
       "      <td>0.0</td>\n",
       "      <td>7.07</td>\n",
       "      <td>0.0</td>\n",
       "      <td>0.469</td>\n",
       "      <td>7.185</td>\n",
       "      <td>61.1</td>\n",
       "      <td>4.9671</td>\n",
       "      <td>2.0</td>\n",
       "      <td>242.0</td>\n",
       "      <td>17.8</td>\n",
       "      <td>392.83</td>\n",
       "      <td>4.03</td>\n",
       "      <td>34.7</td>\n",
       "    </tr>\n",
       "    <tr>\n",
       "      <th>3</th>\n",
       "      <td>0.03237</td>\n",
       "      <td>0.0</td>\n",
       "      <td>2.18</td>\n",
       "      <td>0.0</td>\n",
       "      <td>0.458</td>\n",
       "      <td>6.998</td>\n",
       "      <td>45.8</td>\n",
       "      <td>6.0622</td>\n",
       "      <td>3.0</td>\n",
       "      <td>222.0</td>\n",
       "      <td>18.7</td>\n",
       "      <td>394.63</td>\n",
       "      <td>2.94</td>\n",
       "      <td>33.4</td>\n",
       "    </tr>\n",
       "    <tr>\n",
       "      <th>4</th>\n",
       "      <td>0.06905</td>\n",
       "      <td>0.0</td>\n",
       "      <td>2.18</td>\n",
       "      <td>0.0</td>\n",
       "      <td>0.458</td>\n",
       "      <td>7.147</td>\n",
       "      <td>54.2</td>\n",
       "      <td>6.0622</td>\n",
       "      <td>3.0</td>\n",
       "      <td>222.0</td>\n",
       "      <td>18.7</td>\n",
       "      <td>396.90</td>\n",
       "      <td>5.33</td>\n",
       "      <td>36.2</td>\n",
       "    </tr>\n",
       "  </tbody>\n",
       "</table>\n",
       "</div>"
      ],
      "text/plain": [
       "      CRIM    ZN  INDUS  CHAS    NOX     RM   AGE     DIS  RAD    TAX  \\\n",
       "0  0.00632  18.0   2.31   0.0  0.538  6.575  65.2  4.0900  1.0  296.0   \n",
       "1  0.02731   0.0   7.07   0.0  0.469  6.421  78.9  4.9671  2.0  242.0   \n",
       "2  0.02729   0.0   7.07   0.0  0.469  7.185  61.1  4.9671  2.0  242.0   \n",
       "3  0.03237   0.0   2.18   0.0  0.458  6.998  45.8  6.0622  3.0  222.0   \n",
       "4  0.06905   0.0   2.18   0.0  0.458  7.147  54.2  6.0622  3.0  222.0   \n",
       "\n",
       "   PTRATIO       B  LSTAT  Price  \n",
       "0     15.3  396.90   4.98   24.0  \n",
       "1     17.8  396.90   9.14   21.6  \n",
       "2     17.8  392.83   4.03   34.7  \n",
       "3     18.7  394.63   2.94   33.4  \n",
       "4     18.7  396.90   5.33   36.2  "
      ]
     },
     "execution_count": 8,
     "metadata": {},
     "output_type": "execute_result"
    }
   ],
   "source": [
    "df.head()"
   ]
  },
  {
   "cell_type": "code",
   "execution_count": 9,
   "metadata": {},
   "outputs": [],
   "source": [
    "corr = df.corr()"
   ]
  },
  {
   "cell_type": "code",
   "execution_count": 10,
   "metadata": {},
   "outputs": [
    {
     "data": {
      "text/plain": [
       "Price      1.000000\n",
       "RM         0.695360\n",
       "ZN         0.360445\n",
       "B          0.333461\n",
       "DIS        0.249929\n",
       "CHAS       0.175260\n",
       "AGE       -0.376955\n",
       "RAD       -0.381626\n",
       "CRIM      -0.388305\n",
       "NOX       -0.427321\n",
       "TAX       -0.468536\n",
       "INDUS     -0.483725\n",
       "PTRATIO   -0.507787\n",
       "LSTAT     -0.737663\n",
       "Name: Price, dtype: float64"
      ]
     },
     "execution_count": 10,
     "metadata": {},
     "output_type": "execute_result"
    }
   ],
   "source": [
    "corr['Price'].sort_values(ascending=False)  #correlation between the variables with respect to Price\n"
   ]
  },
  {
   "cell_type": "code",
   "execution_count": 11,
   "metadata": {},
   "outputs": [
    {
     "name": "stdout",
     "output_type": "stream",
     "text": [
      ".. _boston_dataset:\n",
      "\n",
      "Boston house prices dataset\n",
      "---------------------------\n",
      "\n",
      "**Data Set Characteristics:**  \n",
      "\n",
      "    :Number of Instances: 506 \n",
      "\n",
      "    :Number of Attributes: 13 numeric/categorical predictive. Median Value (attribute 14) is usually the target.\n",
      "\n",
      "    :Attribute Information (in order):\n",
      "        - CRIM     per capita crime rate by town\n",
      "        - ZN       proportion of residential land zoned for lots over 25,000 sq.ft.\n",
      "        - INDUS    proportion of non-retail business acres per town\n",
      "        - CHAS     Charles River dummy variable (= 1 if tract bounds river; 0 otherwise)\n",
      "        - NOX      nitric oxides concentration (parts per 10 million)\n",
      "        - RM       average number of rooms per dwelling\n",
      "        - AGE      proportion of owner-occupied units built prior to 1940\n",
      "        - DIS      weighted distances to five Boston employment centres\n",
      "        - RAD      index of accessibility to radial highways\n",
      "        - TAX      full-value property-tax rate per $10,000\n",
      "        - PTRATIO  pupil-teacher ratio by town\n",
      "        - B        1000(Bk - 0.63)^2 where Bk is the proportion of blacks by town\n",
      "        - LSTAT    % lower status of the population\n",
      "        - MEDV     Median value of owner-occupied homes in $1000's\n",
      "\n",
      "    :Missing Attribute Values: None\n",
      "\n",
      "    :Creator: Harrison, D. and Rubinfeld, D.L.\n",
      "\n",
      "This is a copy of UCI ML housing dataset.\n",
      "https://archive.ics.uci.edu/ml/machine-learning-databases/housing/\n",
      "\n",
      "\n",
      "This dataset was taken from the StatLib library which is maintained at Carnegie Mellon University.\n",
      "\n",
      "The Boston house-price data of Harrison, D. and Rubinfeld, D.L. 'Hedonic\n",
      "prices and the demand for clean air', J. Environ. Economics & Management,\n",
      "vol.5, 81-102, 1978.   Used in Belsley, Kuh & Welsch, 'Regression diagnostics\n",
      "...', Wiley, 1980.   N.B. Various transformations are used in the table on\n",
      "pages 244-261 of the latter.\n",
      "\n",
      "The Boston house-price data has been used in many machine learning papers that address regression\n",
      "problems.   \n",
      "     \n",
      ".. topic:: References\n",
      "\n",
      "   - Belsley, Kuh & Welsch, 'Regression diagnostics: Identifying Influential Data and Sources of Collinearity', Wiley, 1980. 244-261.\n",
      "   - Quinlan,R. (1993). Combining Instance-Based and Model-Based Learning. In Proceedings on the Tenth International Conference of Machine Learning, 236-243, University of Massachusetts, Amherst. Morgan Kaufmann.\n",
      "\n"
     ]
    }
   ],
   "source": [
    "print(boston_data.DESCR)\n"
   ]
  },
  {
   "cell_type": "code",
   "execution_count": 12,
   "metadata": {},
   "outputs": [],
   "source": [
    "#RM and LSTAT have positive and negative correlation with Price\n",
    "\n",
    "x = df[['RM','LSTAT']]\n",
    "y = df['Price']\n",
    "y = y.values.reshape((y.shape[0], 1))"
   ]
  },
  {
   "cell_type": "code",
   "execution_count": 13,
   "metadata": {},
   "outputs": [
    {
     "data": {
      "image/png": "[encoded data removed]",
      "text/plain": [
       "<Figure size 432x288 with 1 Axes>"
      ]
     },
     "metadata": {
      "needs_background": "light"
     },
     "output_type": "display_data"
    }
   ],
   "source": [
    "#lets see the feature relation in the same plot\n",
    "np.random.seed(19680801)\n",
    "\n",
    "fig = plt.figure()\n",
    "ax = fig.add_subplot(111, projection='3d')\n",
    "\n",
    "xs = x.iloc[:, 0]\n",
    "ys = x.iloc[:, 1]\n",
    "zs = y\n",
    "ax.scatter(xs, ys, zs)\n",
    "\n",
    "ax.set_xlabel('number of rooms')\n",
    "ax.set_ylabel('% lower status of the population')\n",
    "ax.set_zlabel('price')\n",
    "\n",
    "plt.show()"
   ]
  },
  {
   "cell_type": "code",
   "execution_count": 14,
   "metadata": {},
   "outputs": [],
   "source": [
    "#Data Standardization\n",
    "x = (x - x.mean())/x.std()\n",
    "y = (y - y.mean())/y.std()"
   ]
  },
  {
   "cell_type": "code",
   "execution_count": 15,
   "metadata": {},
   "outputs": [
    {
     "data": {
      "image/png": "[encoded data removed]",
      "text/plain": [
       "<Figure size 432x288 with 1 Axes>"
      ]
     },
     "metadata": {
      "needs_background": "light"
     },
     "output_type": "display_data"
    }
   ],
   "source": [
    "np.random.seed(19680801)\n",
    "\n",
    "fig = plt.figure()\n",
    "ax = fig.add_subplot(111, projection='3d')\n",
    "\n",
    "xs = x.iloc[:, 0]\n",
    "ys = x.iloc[:, 1]\n",
    "zs = y\n",
    "ax.scatter(xs, ys, zs)\n",
    "\n",
    "ax.set_xlabel('number of rooms')\n",
    "ax.set_ylabel('% lower status of the population')\n",
    "ax.set_zlabel('price')\n",
    "\n",
    "plt.show()"
   ]
  },
  {
   "cell_type": "markdown",
   "metadata": {},
   "source": [
    "###### Gradient Descent Linear Regression"
   ]
  },
  {
   "cell_type": "code",
   "execution_count": 16,
   "metadata": {},
   "outputs": [],
   "source": [
    "#Hyperparameters for Gradient Descent\n",
    "a=0.001\n",
    "max_iteration=1000\n"
   ]
  },
  {
   "cell_type": "code",
   "execution_count": 17,
   "metadata": {},
   "outputs": [],
   "source": [
    "#initializing theta with some random values\n",
    "theta = np.zeros((x.shape[1]+1, 1))"
   ]
  },
  {
   "cell_type": "code",
   "execution_count": 18,
   "metadata": {},
   "outputs": [],
   "source": [
    "#Hypothesis function\n",
    "def h (theta, X) :\n",
    "    t = np.ones((X.shape[0], X.shape[1] + 1))\n",
    "    t[:,1:] = X\n",
    "    return np.matmul(t, theta)"
   ]
  },
  {
   "cell_type": "code",
   "execution_count": 19,
   "metadata": {},
   "outputs": [],
   "source": [
    "#Loss fucntion\n",
    "def loss (theta, X, Y) :\n",
    "    return np.average(np.square(Y - h(theta, X))) / 2"
   ]
  },
  {
   "cell_type": "code",
   "execution_count": 20,
   "metadata": {},
   "outputs": [],
   "source": [
    "def gradient (theta, X, Y) :\n",
    "    t = np.ones((X.shape[0], X.shape[1] + 1))\n",
    "    t[:,1:] = X\n",
    "    d_theta = - np.average((Y - h(theta, X)) * t, axis= 0)\n",
    "    d_theta = d_theta.reshape((d_theta.shape[0], 1))\n",
    "    return d_theta"
   ]
  },
  {
   "cell_type": "code",
   "execution_count": 21,
   "metadata": {},
   "outputs": [],
   "source": [
    "#Gradient Descent\n",
    "def gradient_descent (theta, X, Y, learning_rate, max_iteration) :\n",
    "    cost = np.zeros(max_iteration)\n",
    "    for i in range(max_iteration) :\n",
    "        d_theta = gradient (theta, X, Y)\n",
    "        theta = theta - learning_rate * d_theta\n",
    "        cost[i] = loss(theta, X, Y)\n",
    "        if i % 10 == 0 :\n",
    "            print ('iteration : ', i, ' loss : ', loss(theta, X, Y)) \n",
    "    return theta, cost"
   ]
  },
  {
   "cell_type": "code",
   "execution_count": 22,
   "metadata": {},
   "outputs": [
    {
     "name": "stdout",
     "output_type": "stream",
     "text": [
      "iteration :  0  loss :  0.4989751846294511\n",
      "iteration :  10  loss :  0.4889065899672649\n",
      "iteration :  20  loss :  0.4791571999713998\n",
      "iteration :  30  loss :  0.46971688976092413\n",
      "iteration :  40  loss :  0.46057585564636283\n",
      "iteration :  50  loss :  0.4517246049402413\n",
      "iteration :  60  loss :  0.4431539460908829\n",
      "iteration :  70  loss :  0.43485497912920207\n",
      "iteration :  80  loss :  0.4268190864185657\n",
      "iteration :  90  loss :  0.41903792369810666\n",
      "iteration :  100  loss :  0.41150341141018115\n",
      "iteration :  110  loss :  0.40420772630295476\n",
      "iteration :  120  loss :  0.3971432932993894\n",
      "iteration :  130  loss :  0.3903027776241799\n",
      "iteration :  140  loss :  0.3836790771804562\n",
      "iteration :  150  loss :  0.37726531516832873\n",
      "iteration :  160  loss :  0.371054832937604\n",
      "iteration :  170  loss :  0.3650411830672409\n",
      "iteration :  180  loss :  0.3592181226643566\n",
      "iteration :  190  loss :  0.35357960687581397\n",
      "iteration :  200  loss :  0.3481197826056498\n",
      "iteration :  210  loss :  0.3428329824318112\n",
      "iteration :  220  loss :  0.3377137187158785\n",
      "iteration :  230  loss :  0.3327566778996518\n",
      "iteration :  240  loss :  0.32795671498267365\n",
      "iteration :  250  loss :  0.32330884817494726\n",
      "iteration :  260  loss :  0.31880825371929217\n",
      "iteration :  270  loss :  0.3144502608779566\n",
      "iteration :  280  loss :  0.31023034707827457\n",
      "iteration :  290  loss :  0.30614413321232337\n",
      "iteration :  300  loss :  0.3021873790856942\n",
      "iteration :  310  loss :  0.29835597901064703\n",
      "iteration :  320  loss :  0.29464595753906914\n",
      "iteration :  330  loss :  0.2910534653308\n",
      "iteration :  340  loss :  0.28757477515303215\n",
      "iteration :  350  loss :  0.28420627800662507\n",
      "iteration :  360  loss :  0.28094447937530964\n",
      "iteration :  370  loss :  0.2777859955938829\n",
      "iteration :  380  loss :  0.2747275503316179\n",
      "iteration :  390  loss :  0.27176597118723456\n",
      "iteration :  400  loss :  0.268898186391892\n",
      "iteration :  410  loss :  0.2661212216167748\n",
      "iteration :  420  loss :  0.26343219688195635\n",
      "iteration :  430  loss :  0.2608283235633245\n",
      "iteration :  440  loss :  0.2583069014944607\n",
      "iteration :  450  loss :  0.25586531616045866\n",
      "iteration :  460  loss :  0.2535010359807667\n",
      "iteration :  470  loss :  0.25121160967822903\n",
      "iteration :  480  loss :  0.24899466373159151\n",
      "iteration :  490  loss :  0.24684789990882494\n",
      "iteration :  500  loss :  0.24476909287870033\n",
      "iteration :  510  loss :  0.24275608789813508\n",
      "iteration :  520  loss :  0.24080679857290568\n",
      "iteration :  530  loss :  0.23891920468939964\n",
      "iteration :  540  loss :  0.2370913501151529\n",
      "iteration :  550  loss :  0.23532134076599012\n",
      "iteration :  560  loss :  0.2336073426376564\n",
      "iteration :  570  loss :  0.23194757989989226\n",
      "iteration :  580  loss :  0.23034033305097312\n",
      "iteration :  590  loss :  0.22878393713079345\n",
      "iteration :  600  loss :  0.22727677999063925\n",
      "iteration :  610  loss :  0.2258173006178502\n",
      "iteration :  620  loss :  0.22440398751362997\n",
      "iteration :  630  loss :  0.22303537712231902\n",
      "iteration :  640  loss :  0.22171005231049665\n",
      "iteration :  650  loss :  0.22042664089433242\n",
      "iteration :  660  loss :  0.21918381421365507\n",
      "iteration :  670  loss :  0.21798028575125844\n",
      "iteration :  680  loss :  0.21681480979600734\n",
      "iteration :  690  loss :  0.21568618014835583\n",
      "iteration :  700  loss :  0.214593228866931\n",
      "iteration :  710  loss :  0.21353482505487978\n",
      "iteration :  720  loss :  0.21250987368471833\n",
      "iteration :  730  loss :  0.21151731446046057\n",
      "iteration :  740  loss :  0.2105561207158457\n",
      "iteration :  750  loss :  0.20962529834751678\n",
      "iteration :  760  loss :  0.20872388478204412\n",
      "iteration :  770  loss :  0.20785094797571796\n",
      "iteration :  780  loss :  0.2070055854460718\n",
      "iteration :  790  loss :  0.20618692333412938\n",
      "iteration :  800  loss :  0.20539411549640077\n",
      "iteration :  810  loss :  0.20462634262568377\n",
      "iteration :  820  loss :  0.20388281139975684\n",
      "iteration :  830  loss :  0.20316275365707867\n",
      "iteration :  840  loss :  0.20246542559863745\n",
      "iteration :  850  loss :  0.2017901070151207\n",
      "iteration :  860  loss :  0.20113610053860223\n",
      "iteration :  870  loss :  0.2005027309179677\n",
      "iteration :  880  loss :  0.19988934431732733\n",
      "iteration :  890  loss :  0.19929530763668496\n",
      "iteration :  900  loss :  0.19872000785415772\n",
      "iteration :  910  loss :  0.19816285138906353\n",
      "iteration :  920  loss :  0.19762326348521336\n",
      "iteration :  930  loss :  0.19710068761376787\n",
      "iteration :  940  loss :  0.1965945848950374\n",
      "iteration :  950  loss :  0.19610443353862456\n",
      "iteration :  960  loss :  0.19562972830132802\n",
      "iteration :  970  loss :  0.19516997996224253\n",
      "iteration :  980  loss :  0.19472471481451153\n",
      "iteration :  990  loss :  0.19429347417320264\n"
     ]
    }
   ],
   "source": [
    "#train the model\n",
    "theta, cost = gradient_descent (theta, x, y, a, max_iteration)\n"
   ]
  },
  {
   "cell_type": "code",
   "execution_count": 23,
   "metadata": {},
   "outputs": [
    {
     "name": "stdout",
     "output_type": "stream",
     "text": [
      "[[ 1.30818895e-15]\n",
      " [ 3.38224414e-01]\n",
      " [-3.73299446e-01]]\n"
     ]
    }
   ],
   "source": [
    "print(theta)"
   ]
  },
  {
   "cell_type": "code",
   "execution_count": 24,
   "metadata": {},
   "outputs": [
    {
     "data": {
      "text/plain": [
       "0.3878"
      ]
     },
     "execution_count": 24,
     "metadata": {},
     "output_type": "execute_result"
    }
   ],
   "source": [
    "#mean squared error\n",
    "prediction=h(theta, x)\n",
    "round(((prediction - y) ** 2).mean(),4)\n"
   ]
  },
  {
   "cell_type": "markdown",
   "metadata": {},
   "source": [
    "###### Scikit Learn"
   ]
  },
  {
   "cell_type": "code",
   "execution_count": 25,
   "metadata": {},
   "outputs": [],
   "source": [
    "from sklearn.linear_model import LinearRegression\n"
   ]
  },
  {
   "cell_type": "code",
   "execution_count": 26,
   "metadata": {},
   "outputs": [
    {
     "data": {
      "text/plain": [
       "((506, 2), (506, 1))"
      ]
     },
     "execution_count": 26,
     "metadata": {},
     "output_type": "execute_result"
    }
   ],
   "source": [
    "x.shape, y.shape"
   ]
  },
  {
   "cell_type": "code",
   "execution_count": 27,
   "metadata": {},
   "outputs": [],
   "source": [
    "lr = LinearRegression()\n",
    "\n",
    "#Fitting the model\n",
    "lr = lr.fit(x,y)"
   ]
  },
  {
   "cell_type": "code",
   "execution_count": 28,
   "metadata": {},
   "outputs": [],
   "source": [
    "pred = lr.predict(x)"
   ]
  },
  {
   "cell_type": "code",
   "execution_count": 29,
   "metadata": {},
   "outputs": [
    {
     "data": {
      "text/plain": [
       "(506, 1)"
      ]
     },
     "execution_count": 29,
     "metadata": {},
     "output_type": "execute_result"
    }
   ],
   "source": [
    "pred.shape"
   ]
  },
  {
   "cell_type": "code",
   "execution_count": 30,
   "metadata": {},
   "outputs": [],
   "source": [
    "from sklearn.metrics import mean_squared_error"
   ]
  },
  {
   "cell_type": "code",
   "execution_count": 31,
   "metadata": {},
   "outputs": [
    {
     "data": {
      "text/plain": [
       "0.3614383937396597"
      ]
     },
     "execution_count": 31,
     "metadata": {},
     "output_type": "execute_result"
    }
   ],
   "source": [
    "mean_squared_error(y,pred)\n"
   ]
  },
  {
   "cell_type": "code",
   "execution_count": null,
   "metadata": {},
   "outputs": [],
   "source": []
  }
 ],
 "metadata": {
  "kernelspec": {
   "display_name": "Python 3",
   "language": "python",
   "name": "python3"
  },
  "language_info": {
   "codemirror_mode": {
    "name": "ipython",
    "version": 3
   },
   "file_extension": ".py",
   "mimetype": "text/x-python",
   "name": "python",
   "nbconvert_exporter": "python",
   "pygments_lexer": "ipython3",
   "version": "3.7.6"
  }
 },
 "nbformat": 4,
 "nbformat_minor": 4
}
